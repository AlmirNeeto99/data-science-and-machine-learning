{
 "cells": [
  {
   "cell_type": "code",
   "execution_count": null,
   "id": "62dd0180",
   "metadata": {},
   "outputs": [],
   "source": [
    "import pandas as pd\n",
    "import matplotlib.pyplot as plt\n",
    "import numpy as np\n",
    "\n",
    "%matplotlib inline"
   ]
  },
  {
   "cell_type": "code",
   "execution_count": null,
   "id": "966634f6",
   "metadata": {},
   "outputs": [],
   "source": [
    "# I'm loading the data from the CSV file using ';' as delimiter since each\n",
    "# attribute is separated by ';'\n",
    "data = pd.read_csv(\"dados_reduzidos.csv\", delimiter=\";\")"
   ]
  },
  {
   "cell_type": "code",
   "execution_count": null,
   "id": "90d19300",
   "metadata": {},
   "outputs": [],
   "source": [
    "# Each sample has an ID, so i'm using this ID as the dataframe index\n",
    "data.set_index(\"id\", inplace=True)"
   ]
  },
  {
   "cell_type": "code",
   "execution_count": null,
   "id": "f041223d",
   "metadata": {},
   "outputs": [],
   "source": [
    "data"
   ]
  },
  {
   "cell_type": "code",
   "execution_count": null,
   "id": "b5a3074f",
   "metadata": {},
   "outputs": [],
   "source": [
    "data.sort_values(by='valor_total', inplace=True)"
   ]
  },
  {
   "cell_type": "code",
   "execution_count": null,
   "id": "943961d2",
   "metadata": {},
   "outputs": [],
   "source": [
    "# I'm verifying if there is any empty sample by count how many\n",
    "# columns have missing values\n",
    "# As we can see, 'valor_condominio' and 'qtd_dados_bairro' have some missing data\n",
    "data.isna().sum()"
   ]
  },
  {
   "cell_type": "code",
   "execution_count": null,
   "id": "62e6e902",
   "metadata": {},
   "outputs": [],
   "source": [
    "# since \"qtd_dados_bairro\" is the amount of propertis by neighborhood\n",
    "# we can calculate it from the data, so we can drop it\n",
    "data.drop('qtd_dados_bairro', inplace=True, axis=1)"
   ]
  },
  {
   "cell_type": "code",
   "execution_count": null,
   "id": "84c5835c",
   "metadata": {},
   "outputs": [],
   "source": [
    "# Maybe valor_condominio is unavailable because properties are houses and we can make it 0\n",
    "data.loc[data['valor_condominio'].isna(), ['valor_condominio']] = 0"
   ]
  },
  {
   "cell_type": "code",
   "execution_count": null,
   "id": "91b79db8",
   "metadata": {},
   "outputs": [],
   "source": [
    "data.isna().sum()"
   ]
  },
  {
   "cell_type": "code",
   "execution_count": null,
   "id": "ebd57545",
   "metadata": {},
   "outputs": [],
   "source": [
    "def format_float(row):\n",
    "    columns = ['media_idh', 'expectativa_vida', 'renda_percapita', 'dist', 'lat', 'lon']\n",
    "    for col in columns:\n",
    "        row[col] = float(row[col].replace(',', '.'))\n",
    "    return row"
   ]
  },
  {
   "cell_type": "code",
   "execution_count": null,
   "id": "3bd04013",
   "metadata": {},
   "outputs": [],
   "source": [
    "# Make numeric values as float\n",
    "data = data.apply(format_float, axis=1)"
   ]
  },
  {
   "cell_type": "code",
   "execution_count": null,
   "id": "2a62dcc3",
   "metadata": {},
   "outputs": [],
   "source": [
    "data.dtypes"
   ]
  },
  {
   "cell_type": "code",
   "execution_count": null,
   "id": "7dba58f0",
   "metadata": {},
   "outputs": [],
   "source": [
    "# Plotting the price over the util area\n",
    "plt.scatter(data[\"area_util\"], data[\"valor_total\"])\n",
    "plt.xlabel(\"Util area\")\n",
    "plt.ylabel(\"Total price\")"
   ]
  },
  {
   "cell_type": "markdown",
   "id": "896e0ede",
   "metadata": {},
   "source": [
    "We can see that the price increases when the util area increases"
   ]
  },
  {
   "cell_type": "code",
   "execution_count": null,
   "id": "39b63dc2",
   "metadata": {},
   "outputs": [],
   "source": [
    "grouped_by_neighborhood = data.groupby(['bairro'])"
   ]
  },
  {
   "cell_type": "code",
   "execution_count": null,
   "id": "0a5c1b8f",
   "metadata": {},
   "outputs": [],
   "source": [
    "# Here, i'm getting the number of properties by neighborhood\n",
    "properties_by_neighborhood = grouped_by_neighborhood.valor_total.count().sort_values()[-10:]"
   ]
  },
  {
   "cell_type": "code",
   "execution_count": null,
   "id": "69112c84",
   "metadata": {},
   "outputs": [],
   "source": [
    "plt.figure(figsize=(15,10))\n",
    "plt.bar(properties_by_neighborhood.index, properties_by_neighborhood, color='blue')\n",
    "plt.title('Ten neighborhoods with most properties')\n",
    "plt.ylabel('Number of properties')\n",
    "plt.xlabel('Neighborhood')"
   ]
  },
  {
   "cell_type": "code",
   "execution_count": null,
   "id": "644e17a0",
   "metadata": {},
   "outputs": [],
   "source": [
    "max_price_by_neighborhood = grouped_by_neighborhood.valor_total.max().sort_values()[-10:]"
   ]
  },
  {
   "cell_type": "code",
   "execution_count": null,
   "id": "b288d887",
   "metadata": {},
   "outputs": [],
   "source": [
    "plt.figure(figsize=(20,10))\n",
    "plt.bar(max_price_by_neighborhood.index, max_price_by_neighborhood)"
   ]
  },
  {
   "cell_type": "markdown",
   "id": "1decf4ea",
   "metadata": {},
   "source": [
    "Parelheiros has the most expensive property compared to other neighborhoods"
   ]
  },
  {
   "cell_type": "code",
   "execution_count": null,
   "id": "76028eb1",
   "metadata": {},
   "outputs": [],
   "source": [
    "plt.scatter(data['valor_total'], data['dist'])\n",
    "plt.title('Price versus distance to nearest bus stop')\n",
    "plt.ylabel('Price')\n",
    "plt.xlabel('Distance to nearest bus stop')"
   ]
  },
  {
   "cell_type": "markdown",
   "id": "edae5faf",
   "metadata": {},
   "source": [
    "There is no clear relation between the property price and the distance to the nearest bus stop"
   ]
  },
  {
   "cell_type": "code",
   "execution_count": null,
   "id": "0471f31e",
   "metadata": {},
   "outputs": [],
   "source": [
    "columns = [\n",
    "    'banheiros', 'quartos', 'suites'\n",
    "]"
   ]
  },
  {
   "cell_type": "code",
   "execution_count": null,
   "id": "3ad7a8a0",
   "metadata": {},
   "outputs": [],
   "source": [
    "for idx, col in enumerate(columns):\n",
    "    d = data.groupby(col).valor_total.mean()\n",
    "    plt.figure()\n",
    "    plt.bar(list(map(str,d.index.values)), d)\n",
    "    plt.title(col)\n",
    "    plt.ylabel('Average property price')\n",
    "    plt.xlabel(\"number of \" + col)"
   ]
  },
  {
   "cell_type": "markdown",
   "id": "45256d2f",
   "metadata": {},
   "source": [
    "The average price of one property increases when the amount of suites, bathrooms or rooms also increases.\n",
    "The interesting about the price in relation to the number of bathrooms is that for 7 bathrooms there is a hugh decrease in average price"
   ]
  },
  {
   "cell_type": "code",
   "execution_count": null,
   "id": "9628afd2",
   "metadata": {},
   "outputs": [],
   "source": [
    "bool_columns = ['piscina', 'academia', 'quadra']"
   ]
  },
  {
   "cell_type": "code",
   "execution_count": null,
   "id": "5330aad0",
   "metadata": {},
   "outputs": [],
   "source": [
    "fig, axes = plt.subplots(len(bool_columns), figsize=(20,10), layout='constrained')"
   ]
  },
  {
   "cell_type": "code",
   "execution_count": null,
   "id": "60965b65",
   "metadata": {},
   "outputs": [],
   "source": [
    "for idx,col in enumerate(bool_columns):\n",
    "    d = data.groupby(col).valor_total.min()\n",
    "    axes[idx].bar(list(map(str,d.index.values)), d)\n",
    "    axes[idx].set_title(col)\n",
    "    axes[idx].set_ylabel('Price')\n",
    "    axes[idx].set_xlabel(f'Has {col}')"
   ]
  },
  {
   "cell_type": "code",
   "execution_count": null,
   "id": "35c29b11",
   "metadata": {},
   "outputs": [],
   "source": [
    "fig"
   ]
  },
  {
   "cell_type": "markdown",
   "id": "692e3a78",
   "metadata": {},
   "source": [
    "From the chart above, we can see that the minimum money you must have before selecting between pool or gym is twice the value.\n",
    "Maybe it's a high correlate because all these properties are in a condominium"
   ]
  },
  {
   "cell_type": "code",
   "execution_count": null,
   "id": "620bc82b",
   "metadata": {},
   "outputs": [],
   "source": [
    "maxidh_by_neighborhood = grouped_by_neighborhood['media_idh'].max()\n",
    "life_expectance_by_neighborhood = grouped_by_neighborhood['expectativa_vida'].max()\n",
    "renda_by_neighborhood = grouped_by_neighborhood['renda_percapita'].max()\n",
    "avg_price_by_neighborhood = grouped_by_neighborhood.valor_total.mean()"
   ]
  },
  {
   "cell_type": "code",
   "execution_count": null,
   "id": "aafb1fcb",
   "metadata": {},
   "outputs": [],
   "source": [
    "columns = ['media_idh', 'expectativa_vida', 'renda_percapita']"
   ]
  },
  {
   "cell_type": "code",
   "execution_count": null,
   "id": "570ce589",
   "metadata": {},
   "outputs": [],
   "source": [
    "grouped_data = pd.concat([avg_price_by_neighborhood, maxidh_by_neighborhood, renda_by_neighborhood, life_expectance_by_neighborhood], axis=1)"
   ]
  },
  {
   "cell_type": "code",
   "execution_count": null,
   "id": "e3e6a443",
   "metadata": {},
   "outputs": [],
   "source": [
    "for col in columns:\n",
    "    plt.figure()\n",
    "    for idx, row in grouped_data.iterrows():\n",
    "        plt.scatter(row[col], row['valor_total'], label=idx)\n",
    "        plt.title(col)\n",
    "        plt.ylabel('Average price by neighborhood')\n",
    "        plt.xlabel(col)"
   ]
  },
  {
   "cell_type": "markdown",
   "id": "bcef80e9",
   "metadata": {},
   "source": [
    "We can from the charts above that there is a little relation between the average property price and some social-economic data."
   ]
  }
 ],
 "metadata": {
  "kernelspec": {
   "display_name": ".venv",
   "language": "python",
   "name": "python3"
  },
  "language_info": {
   "codemirror_mode": {
    "name": "ipython",
    "version": 3
   },
   "file_extension": ".py",
   "mimetype": "text/x-python",
   "name": "python",
   "nbconvert_exporter": "python",
   "pygments_lexer": "ipython3",
   "version": "3.13.2"
  }
 },
 "nbformat": 4,
 "nbformat_minor": 5
}
